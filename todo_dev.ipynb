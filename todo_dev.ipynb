{
  "nbformat": 4,
  "nbformat_minor": 0,
  "metadata": {
    "colab": {
      "provenance": []
    },
    "kernelspec": {
      "name": "python3",
      "display_name": "Python 3"
    },
    "language_info": {
      "name": "python"
    }
  },
  "cells": [
    {
      "cell_type": "code",
      "execution_count": null,
      "metadata": {
        "id": "4IuVX-SJIlie"
      },
      "outputs": [],
      "source": [
        "task1 = {'id':1,\n",
        "         'name':'Gym',\n",
        "         'done':True\n",
        "         }\n",
        "task2 = {'id':2,\n",
        "         'name':'Einkauf',\n",
        "         'done':False\n",
        "         }\n",
        "tasks = [task1, task2]"
      ]
    },
    {
      "cell_type": "code",
      "source": [
        "tasks"
      ],
      "metadata": {
        "colab": {
          "base_uri": "https://localhost:8080/"
        },
        "id": "4X3M09DjJGn1",
        "outputId": "15f899e6-1aaf-40eb-f9bf-825b5e253d05"
      },
      "execution_count": null,
      "outputs": [
        {
          "output_type": "execute_result",
          "data": {
            "text/plain": [
              "[{'id': 1, 'name': 'Gym', 'done': True},\n",
              " {'id': 2, 'name': 'Einkauf', 'done': False}]"
            ]
          },
          "metadata": {},
          "execution_count": 2
        }
      ]
    },
    {
      "cell_type": "code",
      "source": [
        "import json"
      ],
      "metadata": {
        "id": "nJ0pTctGJMJF"
      },
      "execution_count": null,
      "outputs": []
    },
    {
      "cell_type": "code",
      "source": [
        "with open('/content/tasklist.json', 'w') as f:\n",
        "  json.dump(tasks, f)"
      ],
      "metadata": {
        "id": "dKyzpWHoJV37"
      },
      "execution_count": null,
      "outputs": []
    },
    {
      "cell_type": "code",
      "source": [
        "import os\n",
        "cwd = os.getcwd()\n",
        "print(cwd)"
      ],
      "metadata": {
        "colab": {
          "base_uri": "https://localhost:8080/"
        },
        "id": "QooALT0vJ0VU",
        "outputId": "3fabe3a9-5b3e-4e1f-f3ae-1baaa77382a5"
      },
      "execution_count": null,
      "outputs": [
        {
          "output_type": "stream",
          "name": "stdout",
          "text": [
            "/content\n"
          ]
        }
      ]
    },
    {
      "cell_type": "code",
      "source": [
        "with open('/content/tasklist.json', 'r') as f:\n",
        "  loaded_list = json.load(f)\n",
        "print(loaded_list)\n",
        "print(tasks)"
      ],
      "metadata": {
        "colab": {
          "base_uri": "https://localhost:8080/"
        },
        "id": "pyw_IKVdJXjc",
        "outputId": "a8636757-9877-44a2-da8b-1579d0979075"
      },
      "execution_count": null,
      "outputs": [
        {
          "output_type": "stream",
          "name": "stdout",
          "text": [
            "[{'id': 1, 'name': 'Gym', 'done': True}, {'id': 2, 'name': 'Einkauf', 'done': False}]\n",
            "[{'id': 1, 'name': 'Gym', 'done': True}, {'id': 2, 'name': 'Einkauf', 'done': False}]\n"
          ]
        }
      ]
    },
    {
      "cell_type": "code",
      "source": [
        "if not []:\n",
        "  print('empty')"
      ],
      "metadata": {
        "colab": {
          "base_uri": "https://localhost:8080/"
        },
        "id": "-bAiGBQnLoZh",
        "outputId": "a55106e4-2fe8-4505-f201-809aaa4934b2"
      },
      "execution_count": null,
      "outputs": [
        {
          "output_type": "stream",
          "name": "stdout",
          "text": [
            "empty\n"
          ]
        }
      ]
    },
    {
      "cell_type": "code",
      "source": [
        "[] == True"
      ],
      "metadata": {
        "colab": {
          "base_uri": "https://localhost:8080/"
        },
        "id": "7DopL_ItYRjC",
        "outputId": "315e48b3-cfdf-467c-bafd-94c62e108ccc"
      },
      "execution_count": null,
      "outputs": [
        {
          "output_type": "execute_result",
          "data": {
            "text/plain": [
              "False"
            ]
          },
          "metadata": {},
          "execution_count": 14
        }
      ]
    },
    {
      "cell_type": "code",
      "source": [
        "assert os.path.exists(cwd), 'Enter valid filepath'"
      ],
      "metadata": {
        "id": "aq4UbLDpYXmv"
      },
      "execution_count": null,
      "outputs": []
    },
    {
      "cell_type": "code",
      "source": [
        "len(tasks)"
      ],
      "metadata": {
        "id": "jwV0fARSasZu",
        "colab": {
          "base_uri": "https://localhost:8080/"
        },
        "outputId": "431eac1d-a177-44b2-efeb-6de0effbe0c4"
      },
      "execution_count": null,
      "outputs": [
        {
          "output_type": "execute_result",
          "data": {
            "text/plain": [
              "2"
            ]
          },
          "metadata": {},
          "execution_count": 3
        }
      ]
    },
    {
      "cell_type": "code",
      "source": [
        "task3 = {'id':len(tasks)+1,\n",
        "         'name':'Joggen',\n",
        "         'done':False\n",
        "         }\n",
        "tasks.append(task3)\n",
        "tasks"
      ],
      "metadata": {
        "colab": {
          "base_uri": "https://localhost:8080/"
        },
        "id": "Q-qLnKIMmirR",
        "outputId": "3e452b5e-18f8-4253-be15-ccdb992a6304"
      },
      "execution_count": null,
      "outputs": [
        {
          "output_type": "execute_result",
          "data": {
            "text/plain": [
              "[{'id': 1, 'name': 'Gym', 'done': True},\n",
              " {'id': 2, 'name': 'Einkauf', 'done': False},\n",
              " {'id': 3, 'name': 'Joggen', 'done': False}]"
            ]
          },
          "metadata": {},
          "execution_count": 3
        }
      ]
    },
    {
      "cell_type": "code",
      "source": [
        "task3.values()"
      ],
      "metadata": {
        "colab": {
          "base_uri": "https://localhost:8080/"
        },
        "id": "nMk_syMImwAP",
        "outputId": "42e9467c-92f0-434b-98f8-7a42143cbeba"
      },
      "execution_count": null,
      "outputs": [
        {
          "output_type": "execute_result",
          "data": {
            "text/plain": [
              "dict_values([3, 'Joggen', False])"
            ]
          },
          "metadata": {},
          "execution_count": 10
        }
      ]
    },
    {
      "cell_type": "code",
      "source": [
        "try:\n",
        "  assert 4 in task3.values(), 'Lak gibt nicht'\n",
        "except AssertionError as e:\n",
        "  print(e)\n",
        "else:\n",
        "  print('Und weiter')"
      ],
      "metadata": {
        "colab": {
          "base_uri": "https://localhost:8080/"
        },
        "id": "WivJucl5ouMp",
        "outputId": "2562e345-e9d8-4766-a481-432de6405063"
      },
      "execution_count": null,
      "outputs": [
        {
          "output_type": "stream",
          "name": "stdout",
          "text": [
            "Lak gibt nicht\n"
          ]
        }
      ]
    },
    {
      "cell_type": "code",
      "source": [
        "task3.items()"
      ],
      "metadata": {
        "colab": {
          "base_uri": "https://localhost:8080/"
        },
        "id": "VsVcjUPJpgMB",
        "outputId": "365b0958-b6f2-4de1-9247-665961384c07"
      },
      "execution_count": null,
      "outputs": [
        {
          "output_type": "execute_result",
          "data": {
            "text/plain": [
              "dict_items([('id', 3), ('name', 'Joggen'), ('done', False)])"
            ]
          },
          "metadata": {},
          "execution_count": 18
        }
      ]
    },
    {
      "cell_type": "code",
      "source": [
        "task_found = False\n",
        "for task in tasks:\n",
        "  if task['name'] == 'Spülen':\n",
        "    completed_task = task\n",
        "    task_found = True\n",
        "    break\n",
        "  else:\n",
        "    pass\n",
        "if not task_found:\n",
        "  print('Lak gibt nicht')"
      ],
      "metadata": {
        "colab": {
          "base_uri": "https://localhost:8080/"
        },
        "id": "6SpBtGSSqTyD",
        "outputId": "25732819-4480-4d84-dcc0-09921e508936"
      },
      "execution_count": null,
      "outputs": [
        {
          "output_type": "stream",
          "name": "stdout",
          "text": [
            "Lak gibt nicht\n"
          ]
        }
      ]
    },
    {
      "cell_type": "code",
      "source": [
        "task3['done'] = True\n",
        "print(task3)\n",
        "print(tasks)"
      ],
      "metadata": {
        "colab": {
          "base_uri": "https://localhost:8080/"
        },
        "id": "MbPi0d-KrqPN",
        "outputId": "c20e93b1-c611-4630-a6cb-38a7e515a5a8"
      },
      "execution_count": null,
      "outputs": [
        {
          "output_type": "stream",
          "name": "stdout",
          "text": [
            "{'id': 3, 'name': 'Joggen', 'done': True}\n",
            "[{'id': 1, 'name': 'Gym', 'done': True}, {'id': 2, 'name': 'Einkauf', 'done': False}, {'id': 3, 'name': 'Joggen', 'done': True}]\n"
          ]
        }
      ]
    },
    {
      "cell_type": "code",
      "source": [
        "tasks.remove?"
      ],
      "metadata": {
        "id": "Z8TQYpHosqwm"
      },
      "execution_count": null,
      "outputs": []
    },
    {
      "cell_type": "code",
      "source": [
        "tasks.pop?"
      ],
      "metadata": {
        "id": "DxfgVwBvyIgi"
      },
      "execution_count": null,
      "outputs": []
    },
    {
      "cell_type": "code",
      "source": [
        "for task in tasks:\n",
        "  if task is task2:\n",
        "    print('task 2 found')"
      ],
      "metadata": {
        "colab": {
          "base_uri": "https://localhost:8080/"
        },
        "id": "Ica2Y3skyM-l",
        "outputId": "7863e382-b367-4d2a-f516-0043063e8c8d"
      },
      "execution_count": null,
      "outputs": [
        {
          "output_type": "stream",
          "name": "stdout",
          "text": [
            "task 2 found\n"
          ]
        }
      ]
    },
    {
      "cell_type": "code",
      "source": [
        "print(tasks)\n",
        "del tasks[1]\n",
        "print(tasks)"
      ],
      "metadata": {
        "colab": {
          "base_uri": "https://localhost:8080/"
        },
        "id": "v4UxM7NMy9ce",
        "outputId": "fcf8f102-8bd7-43b7-86e7-8ea4d988ef7f"
      },
      "execution_count": null,
      "outputs": [
        {
          "output_type": "stream",
          "name": "stdout",
          "text": [
            "[{'id': 1, 'name': 'Gym', 'done': True}, {'id': 2, 'name': 'Einkauf', 'done': False}, {'id': 3, 'name': 'Joggen', 'done': True}]\n",
            "[{'id': 1, 'name': 'Gym', 'done': True}, {'id': 3, 'name': 'Joggen', 'done': True}]\n"
          ]
        }
      ]
    },
    {
      "cell_type": "code",
      "source": [
        "tasks = [task1, task2, task3]"
      ],
      "metadata": {
        "id": "B-ax1l8v0AFX"
      },
      "execution_count": null,
      "outputs": []
    },
    {
      "cell_type": "code",
      "source": [
        "for t,task in enumerate(tasks):\n",
        "  if t == 1:\n",
        "    del tasks[t]\n",
        "  tasks[t]['id'] = t+1\n",
        "  print(t,tasks[t],task)"
      ],
      "metadata": {
        "colab": {
          "base_uri": "https://localhost:8080/"
        },
        "id": "GFA6yG3X0Ozi",
        "outputId": "d9ecfcda-d296-4088-baff-bf4b42aaf9b3"
      },
      "execution_count": null,
      "outputs": [
        {
          "output_type": "stream",
          "name": "stdout",
          "text": [
            "0 {'id': 1, 'name': 'Gym', 'done': True} {'id': 1, 'name': 'Gym', 'done': True}\n",
            "1 {'id': 2, 'name': 'Joggen', 'done': True} {'id': 2, 'name': 'Einkauf', 'done': False}\n"
          ]
        }
      ]
    },
    {
      "cell_type": "code",
      "source": [
        "tasks"
      ],
      "metadata": {
        "colab": {
          "base_uri": "https://localhost:8080/"
        },
        "id": "9Hf-gqPU1AuU",
        "outputId": "f77bbc57-d525-4259-ff8e-475b09d40a80"
      },
      "execution_count": null,
      "outputs": [
        {
          "output_type": "execute_result",
          "data": {
            "text/plain": [
              "[{'id': 1, 'name': 'Gym', 'done': True},\n",
              " {'id': 2, 'name': 'Joggen', 'done': True}]"
            ]
          },
          "metadata": {},
          "execution_count": 41
        }
      ]
    },
    {
      "cell_type": "code",
      "source": [
        "name = input('Enter name: ')\n",
        "if name == '':\n",
        "  name = 'Unbekannt'\n",
        "  #name = None\n",
        "print('Hello, ' + name)"
      ],
      "metadata": {
        "id": "BLtuIL2z2GPo",
        "colab": {
          "base_uri": "https://localhost:8080/"
        },
        "outputId": "656a42b0-e898-410f-c55e-dee0a62f3c61"
      },
      "execution_count": null,
      "outputs": [
        {
          "output_type": "stream",
          "name": "stdout",
          "text": [
            "Enter name: \n",
            "Hello, Unbekannt\n"
          ]
        }
      ]
    },
    {
      "cell_type": "code",
      "source": [
        "#x = 2\n",
        "match x:\n",
        "  case 1:\n",
        "    print('x=1')\n",
        "  case 2:\n",
        "    print('x=2')\n",
        "  case 3:\n",
        "    print('x=3')\n",
        "  case _:\n",
        "    print('Iwas anderes')"
      ],
      "metadata": {
        "colab": {
          "base_uri": "https://localhost:8080/"
        },
        "id": "V5x66n8zQcLk",
        "outputId": "0ac71a8f-24e6-4a4c-a285-19135a73d58f"
      },
      "execution_count": null,
      "outputs": [
        {
          "output_type": "stream",
          "name": "stdout",
          "text": [
            "Iwas anderes\n"
          ]
        }
      ]
    },
    {
      "cell_type": "code",
      "source": [
        "x = 2.5"
      ],
      "metadata": {
        "id": "s0QtwB54SzB0"
      },
      "execution_count": null,
      "outputs": []
    },
    {
      "cell_type": "code",
      "source": [
        "print()\n",
        "print('Hi')"
      ],
      "metadata": {
        "id": "FND3ctEgfG_C",
        "outputId": "559f3426-c279-4469-a381-d8f6c97db879",
        "colab": {
          "base_uri": "https://localhost:8080/"
        }
      },
      "execution_count": null,
      "outputs": [
        {
          "output_type": "stream",
          "name": "stdout",
          "text": [
            "\n",
            "Hi\n"
          ]
        }
      ]
    },
    {
      "cell_type": "code",
      "source": [
        "for t, task in enumerate(tasks):\n",
        "  print(t,task)"
      ],
      "metadata": {
        "colab": {
          "base_uri": "https://localhost:8080/"
        },
        "id": "VyBGhthQxAlY",
        "outputId": "abc553fb-db80-4147-9335-962bd7a9177c"
      },
      "execution_count": null,
      "outputs": [
        {
          "output_type": "stream",
          "name": "stdout",
          "text": [
            "0 {'id': 1, 'name': 'Gym', 'done': True}\n",
            "1 {'id': 2, 'name': 'Einkauf', 'done': False}\n",
            "2 {'id': 3, 'name': 'Joggen', 'done': False}\n"
          ]
        }
      ]
    },
    {
      "cell_type": "code",
      "source": [
        "for t, task in list(enumerate(tasks)):\n",
        "  print(t,task)"
      ],
      "metadata": {
        "id": "s7USzawbTPZj",
        "colab": {
          "base_uri": "https://localhost:8080/"
        },
        "outputId": "6962f86b-846f-413c-e61b-e962b6a2bb4c"
      },
      "execution_count": null,
      "outputs": [
        {
          "output_type": "stream",
          "name": "stdout",
          "text": [
            "0 {'id': 1, 'name': 'Gym', 'done': True}\n",
            "1 {'id': 2, 'name': 'Einkauf', 'done': False}\n",
            "2 {'id': 3, 'name': 'Joggen', 'done': False}\n"
          ]
        }
      ]
    },
    {
      "cell_type": "code",
      "source": [
        "list(enumerate(tasks))"
      ],
      "metadata": {
        "colab": {
          "base_uri": "https://localhost:8080/"
        },
        "id": "HqaUqU1twvWF",
        "outputId": "617218d9-eaa3-4a78-c269-610792f3c61e"
      },
      "execution_count": null,
      "outputs": [
        {
          "output_type": "execute_result",
          "data": {
            "text/plain": [
              "[(0, {'id': 1, 'name': 'Gym', 'done': True}),\n",
              " (1, {'id': 2, 'name': 'Einkauf', 'done': False}),\n",
              " (2, {'id': 3, 'name': 'Joggen', 'done': False})]"
            ]
          },
          "metadata": {},
          "execution_count": 7
        }
      ]
    },
    {
      "cell_type": "code",
      "source": [
        "def do_something():\n",
        "  pass\n",
        "  return None\n",
        "do_something()"
      ],
      "metadata": {
        "id": "4eOsroqEw0IR"
      },
      "execution_count": null,
      "outputs": []
    },
    {
      "cell_type": "code",
      "source": [
        "print(do_something())"
      ],
      "metadata": {
        "colab": {
          "base_uri": "https://localhost:8080/"
        },
        "id": "yKfvIO5jDx0n",
        "outputId": "b2bb28b0-5acf-4910-9b4d-47c91635c36e"
      },
      "execution_count": null,
      "outputs": [
        {
          "output_type": "stream",
          "name": "stdout",
          "text": [
            "None\n"
          ]
        }
      ]
    },
    {
      "cell_type": "code",
      "source": [
        "any?"
      ],
      "metadata": {
        "id": "AUhctFbbD3Hu"
      },
      "execution_count": null,
      "outputs": []
    },
    {
      "cell_type": "code",
      "source": [
        "import numpy as np"
      ],
      "metadata": {
        "id": "FaALCdpYEBhZ"
      },
      "execution_count": null,
      "outputs": []
    },
    {
      "cell_type": "code",
      "source": [
        "a = np.argwhere([False,True,False])"
      ],
      "metadata": {
        "id": "SJH126tSPZn8"
      },
      "execution_count": null,
      "outputs": []
    },
    {
      "cell_type": "code",
      "source": [
        "a.squeeze()"
      ],
      "metadata": {
        "colab": {
          "base_uri": "https://localhost:8080/"
        },
        "id": "EK2tjmYqPgt-",
        "outputId": "2e33bc31-037b-49d0-8717-c87023e8254a"
      },
      "execution_count": null,
      "outputs": [
        {
          "output_type": "execute_result",
          "data": {
            "text/plain": [
              "array(1)"
            ]
          },
          "metadata": {},
          "execution_count": 12
        }
      ]
    },
    {
      "cell_type": "code",
      "source": [
        "[False,True,False,True].argwhere()"
      ],
      "metadata": {
        "colab": {
          "base_uri": "https://localhost:8080/",
          "height": 141
        },
        "id": "cgOIGuGKPrW3",
        "outputId": "ff39b089-e1ee-4165-cdc8-ff060b2b652a"
      },
      "execution_count": null,
      "outputs": [
        {
          "output_type": "error",
          "ename": "AttributeError",
          "evalue": "'list' object has no attribute 'argwhere'",
          "traceback": [
            "\u001b[0;31m---------------------------------------------------------------------------\u001b[0m",
            "\u001b[0;31mAttributeError\u001b[0m                            Traceback (most recent call last)",
            "\u001b[0;32m<ipython-input-10-14d5cb2c7cff>\u001b[0m in \u001b[0;36m<cell line: 0>\u001b[0;34m()\u001b[0m\n\u001b[0;32m----> 1\u001b[0;31m \u001b[0;34m[\u001b[0m\u001b[0;32mFalse\u001b[0m\u001b[0;34m,\u001b[0m\u001b[0;32mTrue\u001b[0m\u001b[0;34m,\u001b[0m\u001b[0;32mFalse\u001b[0m\u001b[0;34m,\u001b[0m\u001b[0;32mTrue\u001b[0m\u001b[0;34m]\u001b[0m\u001b[0;34m.\u001b[0m\u001b[0margwhere\u001b[0m\u001b[0;34m(\u001b[0m\u001b[0;34m)\u001b[0m\u001b[0;34m\u001b[0m\u001b[0;34m\u001b[0m\u001b[0m\n\u001b[0m",
            "\u001b[0;31mAttributeError\u001b[0m: 'list' object has no attribute 'argwhere'"
          ]
        }
      ]
    },
    {
      "cell_type": "code",
      "source": [
        "class Test:\n",
        "  def __init__(self, parameter):\n",
        "    if parameter == 1:\n",
        "      self.attribute = 1\n"
      ],
      "metadata": {
        "id": "6bKhZyOSQe0l"
      },
      "execution_count": null,
      "outputs": []
    },
    {
      "cell_type": "code",
      "source": [
        "object = Test(1)\n",
        "if object.attribute:\n",
        "  print(\"Ok\")"
      ],
      "metadata": {
        "colab": {
          "base_uri": "https://localhost:8080/"
        },
        "id": "hBejmzpSp_zA",
        "outputId": "4d94bb6d-1537-45d8-8f08-3b3b9db8f7aa"
      },
      "execution_count": null,
      "outputs": [
        {
          "output_type": "stream",
          "name": "stdout",
          "text": [
            "Ok\n"
          ]
        }
      ]
    },
    {
      "cell_type": "code",
      "source": [],
      "metadata": {
        "id": "kgUVL4fGv4vL"
      },
      "execution_count": null,
      "outputs": []
    },
    {
      "cell_type": "code",
      "source": [
        "list(task[\"name\"] == \"Joggen\" for task in tasks)"
      ],
      "metadata": {
        "colab": {
          "base_uri": "https://localhost:8080/"
        },
        "id": "oJi7UIKAqFV4",
        "outputId": "5de54b69-2909-4b73-b12d-d2642f2e1ebf"
      },
      "execution_count": null,
      "outputs": [
        {
          "output_type": "execute_result",
          "data": {
            "text/plain": [
              "[False, False, True]"
            ]
          },
          "metadata": {},
          "execution_count": 23
        }
      ]
    },
    {
      "cell_type": "code",
      "source": [
        "np.argwhere(list(task[\"name\"] == \"Joggen\" for task in tasks))#.reshape(1)"
      ],
      "metadata": {
        "colab": {
          "base_uri": "https://localhost:8080/"
        },
        "id": "sRCpUdTevzrp",
        "outputId": "8f76556b-83ab-49cc-bcc7-cf139218bd50"
      },
      "execution_count": null,
      "outputs": [
        {
          "output_type": "execute_result",
          "data": {
            "text/plain": [
              "array([[2]])"
            ]
          },
          "metadata": {},
          "execution_count": 32
        }
      ]
    },
    {
      "cell_type": "code",
      "source": [
        "idx = np.argwhere(list((True,False,True,False))).reshape(-1)[0]\n",
        "idx"
      ],
      "metadata": {
        "colab": {
          "base_uri": "https://localhost:8080/"
        },
        "id": "BeSxevR1wGvL",
        "outputId": "65251160-045f-4d67-990a-92e1574cadb3"
      },
      "execution_count": null,
      "outputs": [
        {
          "output_type": "execute_result",
          "data": {
            "text/plain": [
              "np.int64(0)"
            ]
          },
          "metadata": {},
          "execution_count": 45
        }
      ]
    },
    {
      "cell_type": "code",
      "source": [
        "[1,2,3][idx]"
      ],
      "metadata": {
        "colab": {
          "base_uri": "https://localhost:8080/"
        },
        "id": "5U4KXv90wx_J",
        "outputId": "6134e00b-92cc-41fe-fb09-8f842c1af7fa"
      },
      "execution_count": null,
      "outputs": [
        {
          "output_type": "execute_result",
          "data": {
            "text/plain": [
              "1"
            ]
          },
          "metadata": {},
          "execution_count": 40
        }
      ]
    },
    {
      "cell_type": "code",
      "source": [
        "np.argwhere([]).reshape(-1).shape"
      ],
      "metadata": {
        "colab": {
          "base_uri": "https://localhost:8080/"
        },
        "id": "1-qAviE3xN4_",
        "outputId": "4c9db210-0b34-44cd-9884-f814967eb1ea"
      },
      "execution_count": null,
      "outputs": [
        {
          "output_type": "execute_result",
          "data": {
            "text/plain": [
              "(0,)"
            ]
          },
          "metadata": {},
          "execution_count": 54
        }
      ]
    },
    {
      "cell_type": "code",
      "source": [
        "np.array([]).shape"
      ],
      "metadata": {
        "colab": {
          "base_uri": "https://localhost:8080/"
        },
        "id": "coO4l9lbzU1_",
        "outputId": "f21971b1-a76f-486c-8e8b-c3ce6626cbea"
      },
      "execution_count": null,
      "outputs": [
        {
          "output_type": "execute_result",
          "data": {
            "text/plain": [
              "(0,)"
            ]
          },
          "metadata": {},
          "execution_count": 50
        }
      ]
    },
    {
      "cell_type": "code",
      "source": [
        "np.argwhere(task[\"name\"] == \"Joggen\" for task in tasks)#.reshape(1)"
      ],
      "metadata": {
        "colab": {
          "base_uri": "https://localhost:8080/"
        },
        "id": "m9Si72N7ziOY",
        "outputId": "fca53f51-e628-4438-bb15-fccf0367e566"
      },
      "execution_count": null,
      "outputs": [
        {
          "output_type": "execute_result",
          "data": {
            "text/plain": [
              "array([], shape=(1, 0), dtype=int64)"
            ]
          },
          "metadata": {},
          "execution_count": 55
        }
      ]
    },
    {
      "cell_type": "code",
      "source": [
        "task[\"name\"] == \"Joggen\" for task in tasks"
      ],
      "metadata": {
        "colab": {
          "base_uri": "https://localhost:8080/",
          "height": 106
        },
        "id": "6Yanicxn2_4N",
        "outputId": "30802836-199e-4373-a037-c77960064703"
      },
      "execution_count": null,
      "outputs": [
        {
          "output_type": "error",
          "ename": "SyntaxError",
          "evalue": "invalid syntax (<ipython-input-56-f7a5415cb1a8>, line 1)",
          "traceback": [
            "\u001b[0;36m  File \u001b[0;32m\"<ipython-input-56-f7a5415cb1a8>\"\u001b[0;36m, line \u001b[0;32m1\u001b[0m\n\u001b[0;31m    task[\"name\"] == \"Joggen\" for task in tasks\u001b[0m\n\u001b[0m                             ^\u001b[0m\n\u001b[0;31mSyntaxError\u001b[0m\u001b[0;31m:\u001b[0m invalid syntax\n"
          ]
        }
      ]
    },
    {
      "cell_type": "code",
      "source": [
        "list(task[\"name\"] == \"Joggen\" for task in tasks)"
      ],
      "metadata": {
        "colab": {
          "base_uri": "https://localhost:8080/"
        },
        "id": "hHUKRnqu3GO3",
        "outputId": "44806906-2aa5-4741-a56b-59a3190e460a"
      },
      "execution_count": null,
      "outputs": [
        {
          "output_type": "execute_result",
          "data": {
            "text/plain": [
              "[False, False, True]"
            ]
          },
          "metadata": {},
          "execution_count": 57
        }
      ]
    },
    {
      "cell_type": "code",
      "source": [
        "[task[\"name\"] == \"Joggen\" for task in tasks]"
      ],
      "metadata": {
        "id": "KRQxwz3w3P7Q",
        "outputId": "00087359-42af-40c6-b818-42973c03cc5e",
        "colab": {
          "base_uri": "https://localhost:8080/"
        }
      },
      "execution_count": null,
      "outputs": [
        {
          "output_type": "execute_result",
          "data": {
            "text/plain": [
              "[False, False, True]"
            ]
          },
          "metadata": {},
          "execution_count": 58
        }
      ]
    },
    {
      "cell_type": "code",
      "source": [
        "print(\"1\"+str(1))"
      ],
      "metadata": {
        "id": "WXQmkVv43Q7A",
        "colab": {
          "base_uri": "https://localhost:8080/"
        },
        "outputId": "85661413-09ff-4b61-d8dc-2d82c74823de"
      },
      "execution_count": null,
      "outputs": [
        {
          "output_type": "stream",
          "name": "stdout",
          "text": [
            "11\n"
          ]
        }
      ]
    },
    {
      "cell_type": "code",
      "source": [
        "import tkinter as tk"
      ],
      "metadata": {
        "id": "jtfzKHOWlOOr"
      },
      "execution_count": null,
      "outputs": []
    },
    {
      "cell_type": "code",
      "source": [
        "vars = [True for _ in range(3)]\n",
        "vars"
      ],
      "metadata": {
        "id": "z4KMqalhigJQ",
        "colab": {
          "base_uri": "https://localhost:8080/"
        },
        "outputId": "81e1b86c-3465-4537-a9d5-c1197b4afa06"
      },
      "execution_count": null,
      "outputs": [
        {
          "output_type": "execute_result",
          "data": {
            "text/plain": [
              "[True, True, True]"
            ]
          },
          "metadata": {},
          "execution_count": 3
        }
      ]
    },
    {
      "cell_type": "code",
      "source": [
        "root = tk.Tk()\n",
        "tk.BooleanVar()"
      ],
      "metadata": {
        "id": "DOTwNIPGio5o",
        "colab": {
          "base_uri": "https://localhost:8080/",
          "height": 327
        },
        "outputId": "c2c7a792-db36-4dcd-f7fc-237e3cedeb31"
      },
      "execution_count": null,
      "outputs": [
        {
          "output_type": "error",
          "ename": "TclError",
          "evalue": "no display name and no $DISPLAY environment variable",
          "traceback": [
            "\u001b[0;31m---------------------------------------------------------------------------\u001b[0m",
            "\u001b[0;31mTclError\u001b[0m                                  Traceback (most recent call last)",
            "\u001b[0;32m<ipython-input-6-e10e22734438>\u001b[0m in \u001b[0;36m<cell line: 0>\u001b[0;34m()\u001b[0m\n\u001b[0;32m----> 1\u001b[0;31m \u001b[0mroot\u001b[0m \u001b[0;34m=\u001b[0m \u001b[0mtk\u001b[0m\u001b[0;34m.\u001b[0m\u001b[0mTk\u001b[0m\u001b[0;34m(\u001b[0m\u001b[0;34m)\u001b[0m\u001b[0;34m\u001b[0m\u001b[0;34m\u001b[0m\u001b[0m\n\u001b[0m\u001b[1;32m      2\u001b[0m \u001b[0mtk\u001b[0m\u001b[0;34m.\u001b[0m\u001b[0mBooleanVar\u001b[0m\u001b[0;34m(\u001b[0m\u001b[0;34m)\u001b[0m\u001b[0;34m\u001b[0m\u001b[0;34m\u001b[0m\u001b[0m\n",
            "\u001b[0;32m/usr/lib/python3.11/tkinter/__init__.py\u001b[0m in \u001b[0;36m__init__\u001b[0;34m(self, screenName, baseName, className, useTk, sync, use)\u001b[0m\n\u001b[1;32m   2324\u001b[0m                 \u001b[0mbaseName\u001b[0m \u001b[0;34m=\u001b[0m \u001b[0mbaseName\u001b[0m \u001b[0;34m+\u001b[0m \u001b[0mext\u001b[0m\u001b[0;34m\u001b[0m\u001b[0;34m\u001b[0m\u001b[0m\n\u001b[1;32m   2325\u001b[0m         \u001b[0minteractive\u001b[0m \u001b[0;34m=\u001b[0m \u001b[0;32mFalse\u001b[0m\u001b[0;34m\u001b[0m\u001b[0;34m\u001b[0m\u001b[0m\n\u001b[0;32m-> 2326\u001b[0;31m         \u001b[0mself\u001b[0m\u001b[0;34m.\u001b[0m\u001b[0mtk\u001b[0m \u001b[0;34m=\u001b[0m \u001b[0m_tkinter\u001b[0m\u001b[0;34m.\u001b[0m\u001b[0mcreate\u001b[0m\u001b[0;34m(\u001b[0m\u001b[0mscreenName\u001b[0m\u001b[0;34m,\u001b[0m \u001b[0mbaseName\u001b[0m\u001b[0;34m,\u001b[0m \u001b[0mclassName\u001b[0m\u001b[0;34m,\u001b[0m \u001b[0minteractive\u001b[0m\u001b[0;34m,\u001b[0m \u001b[0mwantobjects\u001b[0m\u001b[0;34m,\u001b[0m \u001b[0museTk\u001b[0m\u001b[0;34m,\u001b[0m \u001b[0msync\u001b[0m\u001b[0;34m,\u001b[0m \u001b[0muse\u001b[0m\u001b[0;34m)\u001b[0m\u001b[0;34m\u001b[0m\u001b[0;34m\u001b[0m\u001b[0m\n\u001b[0m\u001b[1;32m   2327\u001b[0m         \u001b[0;32mif\u001b[0m \u001b[0museTk\u001b[0m\u001b[0;34m:\u001b[0m\u001b[0;34m\u001b[0m\u001b[0;34m\u001b[0m\u001b[0m\n\u001b[1;32m   2328\u001b[0m             \u001b[0mself\u001b[0m\u001b[0;34m.\u001b[0m\u001b[0m_loadtk\u001b[0m\u001b[0;34m(\u001b[0m\u001b[0;34m)\u001b[0m\u001b[0;34m\u001b[0m\u001b[0;34m\u001b[0m\u001b[0m\n",
            "\u001b[0;31mTclError\u001b[0m: no display name and no $DISPLAY environment variable"
          ]
        }
      ]
    },
    {
      "cell_type": "code",
      "source": [
        "class Test:\n",
        "  def __init__(self):\n",
        "    self.test()\n",
        "\n",
        "  def test(self):\n",
        "    print(\"Test\")\n",
        "t = Test()"
      ],
      "metadata": {
        "colab": {
          "base_uri": "https://localhost:8080/"
        },
        "id": "QHOGVcAy0Ts8",
        "outputId": "4d86fe90-ada0-4a43-9215-82dca8d05497"
      },
      "execution_count": null,
      "outputs": [
        {
          "output_type": "stream",
          "name": "stdout",
          "text": [
            "Test\n"
          ]
        }
      ]
    },
    {
      "cell_type": "code",
      "source": [
        "status = True\n",
        "neg_status = not status\n",
        "neg_status"
      ],
      "metadata": {
        "colab": {
          "base_uri": "https://localhost:8080/"
        },
        "id": "rAIldcuv-s78",
        "outputId": "663548d2-fa82-4167-ebc8-28e0db40fe70"
      },
      "execution_count": null,
      "outputs": [
        {
          "output_type": "execute_result",
          "data": {
            "text/plain": [
              "False"
            ]
          },
          "metadata": {},
          "execution_count": 8
        }
      ]
    },
    {
      "cell_type": "code",
      "source": [
        "copy = tasks[:]#tasks.copy()\n",
        "tasks.append(1)\n",
        "copy.append(2)\n",
        "print(tasks,copy)"
      ],
      "metadata": {
        "id": "9BGp45HNGn4n",
        "colab": {
          "base_uri": "https://localhost:8080/"
        },
        "outputId": "290a8360-12ac-44df-ded6-d97534c32057"
      },
      "execution_count": null,
      "outputs": [
        {
          "output_type": "stream",
          "name": "stdout",
          "text": [
            "[{'id': 1, 'name': 'Gym', 'done': True}, {'id': 2, 'name': 'Einkauf', 'done': False}, {'id': 3, 'name': 'Joggen', 'done': False}, 1, 1] [{'id': 1, 'name': 'Gym', 'done': True}, {'id': 2, 'name': 'Einkauf', 'done': False}, {'id': 3, 'name': 'Joggen', 'done': False}, 1, 2]\n"
          ]
        }
      ]
    },
    {
      "cell_type": "code",
      "source": [
        "import sqlite3"
      ],
      "metadata": {
        "id": "mgMknuhBAMMj"
      },
      "execution_count": null,
      "outputs": []
    },
    {
      "cell_type": "code",
      "source": [
        "DB_NAME = \"test.db\"\n",
        "con = sqlite3.connect(DB_NAME)\n",
        "cursor = con.cursor()"
      ],
      "metadata": {
        "id": "zjnHzaaU-m4W"
      },
      "execution_count": null,
      "outputs": []
    },
    {
      "cell_type": "code",
      "source": [
        "con.close()"
      ],
      "metadata": {
        "id": "qCLgB_-3-sgm"
      },
      "execution_count": null,
      "outputs": []
    },
    {
      "cell_type": "code",
      "source": [
        "con.close()"
      ],
      "metadata": {
        "id": "xa1kPV18-t8l"
      },
      "execution_count": null,
      "outputs": []
    },
    {
      "cell_type": "code",
      "source": [
        "cursor.execute(\"SELECT name FROM sqlite_master WHERE name='spam'\").fetchall()"
      ],
      "metadata": {
        "colab": {
          "base_uri": "https://localhost:8080/",
          "height": 146
        },
        "id": "MdhBHpWc-6Q_",
        "outputId": "6672ec57-9a40-4ab7-c709-c395e1d9c2b7"
      },
      "execution_count": null,
      "outputs": [
        {
          "output_type": "error",
          "ename": "ProgrammingError",
          "evalue": "Cannot operate on a closed database.",
          "traceback": [
            "\u001b[0;31m---------------------------------------------------------------------------\u001b[0m",
            "\u001b[0;31mProgrammingError\u001b[0m                          Traceback (most recent call last)",
            "\u001b[0;32m<ipython-input-14-9c86eedcc77e>\u001b[0m in \u001b[0;36m<cell line: 0>\u001b[0;34m()\u001b[0m\n\u001b[0;32m----> 1\u001b[0;31m \u001b[0mcursor\u001b[0m\u001b[0;34m.\u001b[0m\u001b[0mexecute\u001b[0m\u001b[0;34m(\u001b[0m\u001b[0;34m\"SELECT name FROM sqlite_master WHERE name='spam'\"\u001b[0m\u001b[0;34m)\u001b[0m\u001b[0;34m.\u001b[0m\u001b[0mfetchall\u001b[0m\u001b[0;34m(\u001b[0m\u001b[0;34m)\u001b[0m\u001b[0;34m\u001b[0m\u001b[0;34m\u001b[0m\u001b[0m\n\u001b[0m",
            "\u001b[0;31mProgrammingError\u001b[0m: Cannot operate on a closed database."
          ]
        }
      ]
    },
    {
      "cell_type": "code",
      "source": [
        "c2 = con.cursor()"
      ],
      "metadata": {
        "colab": {
          "base_uri": "https://localhost:8080/",
          "height": 146
        },
        "id": "Wn0Atz5i_Oja",
        "outputId": "50b17423-4e0c-475c-80e8-623fc743ce83"
      },
      "execution_count": null,
      "outputs": [
        {
          "output_type": "error",
          "ename": "ProgrammingError",
          "evalue": "Cannot operate on a closed database.",
          "traceback": [
            "\u001b[0;31m---------------------------------------------------------------------------\u001b[0m",
            "\u001b[0;31mProgrammingError\u001b[0m                          Traceback (most recent call last)",
            "\u001b[0;32m<ipython-input-15-a6335d98f30c>\u001b[0m in \u001b[0;36m<cell line: 0>\u001b[0;34m()\u001b[0m\n\u001b[0;32m----> 1\u001b[0;31m \u001b[0mc2\u001b[0m \u001b[0;34m=\u001b[0m \u001b[0mcon\u001b[0m\u001b[0;34m.\u001b[0m\u001b[0mcursor\u001b[0m\u001b[0;34m(\u001b[0m\u001b[0;34m)\u001b[0m\u001b[0;34m\u001b[0m\u001b[0;34m\u001b[0m\u001b[0m\n\u001b[0m",
            "\u001b[0;31mProgrammingError\u001b[0m: Cannot operate on a closed database."
          ]
        }
      ]
    },
    {
      "cell_type": "code",
      "source": [
        "obj = None\n",
        "if obj:\n",
        "  print(\"isn't None\")"
      ],
      "metadata": {
        "id": "EdV48BJR_xtP"
      },
      "execution_count": null,
      "outputs": []
    },
    {
      "cell_type": "code",
      "source": [
        "bool(1)"
      ],
      "metadata": {
        "colab": {
          "base_uri": "https://localhost:8080/"
        },
        "id": "76wIAS6QDPS0",
        "outputId": "b71e40ee-90c2-4e5b-df0d-536879991f22"
      },
      "execution_count": null,
      "outputs": [
        {
          "output_type": "execute_result",
          "data": {
            "text/plain": [
              "True"
            ]
          },
          "metadata": {},
          "execution_count": 19
        }
      ]
    },
    {
      "cell_type": "code",
      "source": [
        "bool(0)"
      ],
      "metadata": {
        "colab": {
          "base_uri": "https://localhost:8080/"
        },
        "id": "JIAZtpNeM149",
        "outputId": "40368367-8a9e-48c7-d5a1-b57a5882845e"
      },
      "execution_count": null,
      "outputs": [
        {
          "output_type": "execute_result",
          "data": {
            "text/plain": [
              "False"
            ]
          },
          "metadata": {},
          "execution_count": 20
        }
      ]
    },
    {
      "cell_type": "code",
      "source": [
        "bool(5)"
      ],
      "metadata": {
        "colab": {
          "base_uri": "https://localhost:8080/"
        },
        "id": "oOyog1kFM4HM",
        "outputId": "e715a714-3aa1-4c7a-e1ed-155994a3ac0e"
      },
      "execution_count": null,
      "outputs": [
        {
          "output_type": "execute_result",
          "data": {
            "text/plain": [
              "True"
            ]
          },
          "metadata": {},
          "execution_count": 21
        }
      ]
    },
    {
      "cell_type": "code",
      "source": [
        "class Foo:\n",
        "  def __init__(self):\n",
        "    pass\n",
        "  def foo(self):\n",
        "    print(\"Foo!\")"
      ],
      "metadata": {
        "id": "1qI9PhbhM5LV"
      },
      "execution_count": null,
      "outputs": []
    },
    {
      "cell_type": "code",
      "source": [
        "f = Foo()\n",
        "f.foo()"
      ],
      "metadata": {
        "colab": {
          "base_uri": "https://localhost:8080/"
        },
        "id": "V0MLxFsQfw9G",
        "outputId": "2dae6ee6-6dfc-4284-d8a8-15d5a320d7f8"
      },
      "execution_count": null,
      "outputs": [
        {
          "output_type": "stream",
          "name": "stdout",
          "text": [
            "Foo!\n"
          ]
        }
      ]
    },
    {
      "cell_type": "code",
      "source": [
        "x = 3\n",
        "try:\n",
        "  assert x == 5, \"Falsche Zahl\"\n",
        "except AssertionError as e:\n",
        "  print(e.args)\n",
        "#print(\"Ende\")"
      ],
      "metadata": {
        "colab": {
          "base_uri": "https://localhost:8080/"
        },
        "id": "8IskJAY0f1V-",
        "outputId": "e9d4bc36-e51e-49ba-e4b1-4e1a02ad6ceb"
      },
      "execution_count": 10,
      "outputs": [
        {
          "output_type": "stream",
          "name": "stdout",
          "text": [
            "('Falsche Zahl',)\n"
          ]
        }
      ]
    },
    {
      "cell_type": "code",
      "source": [
        "tup = (1, \"name\", True)\n",
        "tup.count(2)"
      ],
      "metadata": {
        "colab": {
          "base_uri": "https://localhost:8080/"
        },
        "id": "3SpR_RBqnWrd",
        "outputId": "f5c7ab38-532e-41a8-f7e8-6cefa90fd0bb"
      },
      "execution_count": null,
      "outputs": [
        {
          "output_type": "execute_result",
          "data": {
            "text/plain": [
              "0"
            ]
          },
          "metadata": {},
          "execution_count": 39
        }
      ]
    },
    {
      "cell_type": "code",
      "source": [
        "1 in tup"
      ],
      "metadata": {
        "colab": {
          "base_uri": "https://localhost:8080/"
        },
        "id": "B7xnIlhmq0Ts",
        "outputId": "7164aad2-3a34-481e-941e-a2e52790e08d"
      },
      "execution_count": null,
      "outputs": [
        {
          "output_type": "execute_result",
          "data": {
            "text/plain": [
              "True"
            ]
          },
          "metadata": {},
          "execution_count": 40
        }
      ]
    },
    {
      "cell_type": "code",
      "source": [
        "tup1, tup2 = (1, \"Gym\", True), (2, \"Joggen\", False)\n",
        "tasks = [tup1,tup2]"
      ],
      "metadata": {
        "id": "T7D9NtVXsFAM"
      },
      "execution_count": 1,
      "outputs": []
    },
    {
      "cell_type": "code",
      "source": [
        "tasks[1][2]"
      ],
      "metadata": {
        "colab": {
          "base_uri": "https://localhost:8080/"
        },
        "id": "opglQSTFiSHs",
        "outputId": "66bf90ff-e982-4b42-d555-d524c352cd1b"
      },
      "execution_count": 5,
      "outputs": [
        {
          "output_type": "execute_result",
          "data": {
            "text/plain": [
              "False"
            ]
          },
          "metadata": {},
          "execution_count": 5
        }
      ]
    },
    {
      "cell_type": "code",
      "source": [
        "\"\" is None"
      ],
      "metadata": {
        "colab": {
          "base_uri": "https://localhost:8080/"
        },
        "id": "eOJpKv4RiVSr",
        "outputId": "51c56509-08bd-4e42-9590-724cb31382bd"
      },
      "execution_count": 11,
      "outputs": [
        {
          "output_type": "stream",
          "name": "stderr",
          "text": [
            "<>:1: SyntaxWarning: \"is\" with a literal. Did you mean \"==\"?\n",
            "<>:1: SyntaxWarning: \"is\" with a literal. Did you mean \"==\"?\n",
            "<ipython-input-11-f960897f60bf>:1: SyntaxWarning: \"is\" with a literal. Did you mean \"==\"?\n",
            "  \"\" is None\n"
          ]
        },
        {
          "output_type": "execute_result",
          "data": {
            "text/plain": [
              "False"
            ]
          },
          "metadata": {},
          "execution_count": 11
        }
      ]
    },
    {
      "cell_type": "code",
      "source": [
        "empty_name = \"\"\n",
        "if not empty_name:\n",
        "  print(\"Leer\")"
      ],
      "metadata": {
        "colab": {
          "base_uri": "https://localhost:8080/"
        },
        "id": "MtTW_otpoz5i",
        "outputId": "8ee09380-37f2-4cfe-8c72-cb250897c9ca"
      },
      "execution_count": 17,
      "outputs": [
        {
          "output_type": "stream",
          "name": "stdout",
          "text": [
            "Leer\n"
          ]
        }
      ]
    },
    {
      "cell_type": "code",
      "source": [
        "assert empty_name, \"Darf nicht leer sein\""
      ],
      "metadata": {
        "colab": {
          "base_uri": "https://localhost:8080/",
          "height": 141
        },
        "id": "_VkbnIYopJyU",
        "outputId": "518c70f3-041a-4f5f-bc3e-52c4a0ddfb82"
      },
      "execution_count": 18,
      "outputs": [
        {
          "output_type": "error",
          "ename": "AssertionError",
          "evalue": "Darf nicht leer sein",
          "traceback": [
            "\u001b[0;31m---------------------------------------------------------------------------\u001b[0m",
            "\u001b[0;31mAssertionError\u001b[0m                            Traceback (most recent call last)",
            "\u001b[0;32m<ipython-input-18-1a304e30cb54>\u001b[0m in \u001b[0;36m<cell line: 0>\u001b[0;34m()\u001b[0m\n\u001b[0;32m----> 1\u001b[0;31m \u001b[0;32massert\u001b[0m \u001b[0mempty_name\u001b[0m\u001b[0;34m,\u001b[0m \u001b[0;34m\"Darf nicht leer sein\"\u001b[0m\u001b[0;34m\u001b[0m\u001b[0;34m\u001b[0m\u001b[0m\n\u001b[0m",
            "\u001b[0;31mAssertionError\u001b[0m: Darf nicht leer sein"
          ]
        }
      ]
    },
    {
      "cell_type": "code",
      "source": [],
      "metadata": {
        "id": "Qf02umESpZPu"
      },
      "execution_count": null,
      "outputs": []
    }
  ]
}